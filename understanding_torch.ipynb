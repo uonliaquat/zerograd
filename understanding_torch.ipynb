{
 "cells": [
  {
   "cell_type": "code",
   "execution_count": null,
   "id": "35d71cce",
   "metadata": {},
   "outputs": [
    {
     "name": "stdout",
     "output_type": "stream",
     "text": [
      "Original tensor x: tensor([ 0.,  1.,  2.,  3.,  4.,  5.,  6.,  7.,  8.,  9., 10., 11.])\n",
      "Storage elements: [0.0, 1.0, 2.0, 3.0, 4.0, 5.0, 6.0, 7.0, 8.0, 9.0, 10.0, 11.0]\n",
      "Storage type: torch.float32\n",
      "Storage size: 12\n",
      "\n",
      "Reshaped tensor y:\n",
      "tensor([[ 0.,  1.,  2.,  3.],\n",
      "        [ 4.,  5.,  6.,  7.],\n",
      "        [ 8.,  9., 10., 11.]])\n",
      "Does y share storage with x? True\n",
      "\n",
      "Modified y:\n",
      "tensor([[99.,  1.,  2.,  3.],\n",
      "        [ 4.,  5.,  6.,  7.],\n",
      "        [ 8.,  9., 10., 11.]])\n",
      "Original x after modifying y: tensor([99.,  1.,  2.,  3.,  4.,  5.,  6.,  7.,  8.,  9., 10., 11.])\n"
     ]
    },
    {
     "name": "stderr",
     "output_type": "stream",
     "text": [
      "/var/folders/t0/jgz4s8zs4rb10n6q9c7x25sm0000gn/T/ipykernel_37875/1814039797.py:8: UserWarning: TypedStorage is deprecated. It will be removed in the future and UntypedStorage will be the only storage class. This should only matter to you if you are using storages directly.  To access UntypedStorage directly, use tensor.untyped_storage() instead of tensor.storage()\n",
      "  print(f\"Storage elements: {x.storage().tolist()}\")\n"
     ]
    }
   ],
   "source": [
    "import torch\n",
    "\n",
    "# Create a tensor\n",
    "x = torch.arange(12, dtype=torch.float32)\n",
    "print(f\"Original tensor x: {x}\")\n",
    "\n",
    "# Storage is a 1D array of 12 floats\n",
    "print(f\"Storage elements: {x.storage().tolist()}\")\n",
    "print(f\"Storage type: {x.storage().dtype}\")\n",
    "print(f\"Storage size: {len(x.storage())}\")\n",
    "\n",
    "# Create a view by reshaping\n",
    "y = x.view(3, 4)\n",
    "print(f\"\\nReshaped tensor y:\\n{y}\")\n",
    "\n",
    "# y has different shape/strides but shares the same storage\n",
    "print(f\"Does y share storage with x? {y.storage().data_ptr() == x.storage().data_ptr()}\")\n",
    "\n",
    "# Modifying the view affects the original (and vice versa)\n",
    "y[0, 0] = 99.0\n",
    "print(f\"\\nModified y:\\n{y}\")\n",
    "print(f\"Original x after modifying y: {x}\")"
   ]
  },
  {
   "cell_type": "code",
   "execution_count": 9,
   "id": "b7ef66e2",
   "metadata": {},
   "outputs": [
    {
     "name": "stdout",
     "output_type": "stream",
     "text": [
      "Tensor t:\n",
      "tensor([ 0.,  1.,  2.,  3.,  4.,  5.,  6.,  7.,  8.,  9., 10., 11.])\n",
      "Shape: torch.Size([12])\n",
      "Stride: (1,)\n"
     ]
    }
   ],
   "source": [
    "t = torch.arange(12, dtype=torch.float32)\n",
    "print(f\"Tensor t:\\n{t}\")\n",
    "print(f\"Shape: {t.shape}\")\n",
    "print(f\"Stride: {t.stride()}\")"
   ]
  },
  {
   "cell_type": "code",
   "execution_count": 13,
   "id": "4dc8ac7d",
   "metadata": {},
   "outputs": [
    {
     "name": "stdout",
     "output_type": "stream",
     "text": [
      "Tensor t:\n",
      "tensor([[ 0.,  1.,  2.,  3.],\n",
      "        [ 4.,  5.,  6.,  7.],\n",
      "        [ 8.,  9., 10., 11.]])\n",
      "Shape: torch.Size([3, 4])\n",
      "Stride: (4, 1)\n"
     ]
    }
   ],
   "source": [
    "t = torch.arange(12, dtype=torch.float32).view(3, 4)\n",
    "print(f\"Tensor t:\\n{t}\")\n",
    "print(f\"Shape: {t.shape}\")\n",
    "print(f\"Stride: {t.stride()}\")"
   ]
  },
  {
   "cell_type": "code",
   "execution_count": 12,
   "id": "060abcd2",
   "metadata": {},
   "outputs": [
    {
     "name": "stdout",
     "output_type": "stream",
     "text": [
      "\n",
      "Transposed tensor t_transposed:\n",
      "tensor([[ 0.,  4.,  8.],\n",
      "        [ 1.,  5.,  9.],\n",
      "        [ 2.,  6., 10.],\n",
      "        [ 3.,  7., 11.]])\n",
      "Shape: torch.Size([4, 3])\n",
      "Stride: (1, 4)\n",
      "Is t_transposed contiguous? False\n",
      "Does t_transposed share storage with t? True\n"
     ]
    }
   ],
   "source": [
    "t_transposed = t.t() # Transpose operation\n",
    "print(f\"\\nTransposed tensor t_transposed:\\n{t_transposed}\")\n",
    "print(f\"Shape: {t_transposed.shape}\")\n",
    "print(f\"Stride: {t_transposed.stride()}\")\n",
    "print(f\"Is t_transposed contiguous? {t_transposed.is_contiguous()}\") # Output: False\n",
    "print(f\"Does t_transposed share storage with t? {t_transposed.storage().data_ptr() == t.storage().data_ptr()}\") # Output: True"
   ]
  },
  {
   "cell_type": "code",
   "execution_count": null,
   "id": "41983cfd",
   "metadata": {},
   "outputs": [],
   "source": []
  }
 ],
 "metadata": {
  "kernelspec": {
   "display_name": "caerus",
   "language": "python",
   "name": "python3"
  },
  "language_info": {
   "codemirror_mode": {
    "name": "ipython",
    "version": 3
   },
   "file_extension": ".py",
   "mimetype": "text/x-python",
   "name": "python",
   "nbconvert_exporter": "python",
   "pygments_lexer": "ipython3",
   "version": "3.11.11"
  }
 },
 "nbformat": 4,
 "nbformat_minor": 5
}
