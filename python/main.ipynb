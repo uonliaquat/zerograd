{
 "cells": [
  {
   "cell_type": "code",
   "execution_count": 1,
   "id": "30ac3252",
   "metadata": {},
   "outputs": [],
   "source": [
    "import torch"
   ]
  },
  {
   "cell_type": "code",
   "execution_count": 7,
   "id": "86dd47e8",
   "metadata": {},
   "outputs": [],
   "source": [
    "a = torch.tensor([\n",
    "    [ 2.88, -7.64, 5.57  ],\n",
    "    [ 9.39, 4.41, 9.06  ]\n",
    "])\n",
    "b = torch.tensor([\n",
    "    [ -4.80, 9.48  ],\n",
    "    [ 3.36, 2.83  ],\n",
    "    [ 8.07, -7.24  ]\n",
    "])\n"
   ]
  },
  {
   "cell_type": "code",
   "execution_count": 8,
   "id": "0b185b9c",
   "metadata": {},
   "outputs": [
    {
     "data": {
      "text/plain": [
       "tensor([[  5.4555, -34.6456],\n",
       "        [ 42.8598,  35.9031]])"
      ]
     },
     "execution_count": 8,
     "metadata": {},
     "output_type": "execute_result"
    }
   ],
   "source": [
    "torch.matmul(a, b)"
   ]
  },
  {
   "cell_type": "code",
   "execution_count": null,
   "id": "ca1057f6",
   "metadata": {},
   "outputs": [],
   "source": []
  }
 ],
 "metadata": {
  "kernelspec": {
   "display_name": "caerus",
   "language": "python",
   "name": "python3"
  },
  "language_info": {
   "codemirror_mode": {
    "name": "ipython",
    "version": 3
   },
   "file_extension": ".py",
   "mimetype": "text/x-python",
   "name": "python",
   "nbconvert_exporter": "python",
   "pygments_lexer": "ipython3",
   "version": "3.11.11"
  }
 },
 "nbformat": 4,
 "nbformat_minor": 5
}
